{
  "cells": [
    {
      "cell_type": "code",
      "execution_count": 186,
      "metadata": {
        "id": "RVGZgcQQzyJp"
      },
      "outputs": [],
      "source": [
        "import cv2\n",
        "import numpy as np\n",
        "import matplotlib.pyplot as plt\n",
        "\n",
        "def resize_image(image, target_size=(800, 1000)):\n",
        "  '''Resize the image while maintaining aspect ratio'''\n",
        "  h, w = image.shape[:2]\n",
        "  scale = min(target_size[1] / w, target_size[0] / h)\n",
        "  new_w = int(w * scale)\n",
        "  new_h = int(h * scale)\n",
        "  resized_image = cv2.resize(image, (new_w, new_h))\n",
        "  return resized_image\n",
        "\n",
        "def logarithmic_transformation(image, epsilon=1e-5):\n",
        "  '''Apply logarithmic transformation to the image with zero value handling'''\n",
        "  c = 255 / np.log(1 + np.max(image))\n",
        "  # Epsilon zero-handling technique\n",
        "  log_image = c * (np.log(1 + image + epsilon))\n",
        "  log_image = np.array(log_image, dtype=np.uint8)\n",
        "\n",
        "  return log_image\n",
        "\n",
        "def contrast_stretching(image):\n",
        "  min_val = np.min(image)\n",
        "  max_val = np.max(image)\n",
        "  stretched = (image - min_val) * (255 / (max_val - min_val))\n",
        "  return stretched.astype(np.uint8)\n",
        "\n",
        "def gaussian_blur(image, mode='Soft'):\n",
        "  if mode == 'Soft':\n",
        "    kernel_size = (3,3)\n",
        "  elif mode == 'Medium':\n",
        "    kernel_size = (5,5)\n",
        "  elif mode == 'Hard':\n",
        "    kernel_size = (7,7)\n",
        "  else:\n",
        "    raise ValueError(\"Mode must be 'Soft', 'Medium', or 'Hard'\")\n",
        "\n",
        "  return cv2.GaussianBlur(image, kernel_size, 0)\n",
        "\n",
        "def measure_blurriness(image):\n",
        "  # Apply the Laplacian operator to detect edges\n",
        "  laplacian = cv2.Laplacian(image, cv2.CV_64F)\n",
        "  # Variance of Laplacian\n",
        "  variance = laplacian.var()\n",
        "\n",
        "  return variance\n",
        "\n",
        "def adaptive_gaussian_blur(image, desired_blur=100, max_iterations=100):\n",
        "  # Measure initial blur level\n",
        "  initial_blur = measure_blurriness(image)\n",
        "\n",
        "  # Set a starting kernel size\n",
        "  kernel_size = 5\n",
        "\n",
        "  for iteration in range(max_iterations):\n",
        "      # Apply Gaussian blur with the current kernel size\n",
        "      blurred_image = cv2.GaussianBlur(image, (kernel_size, kernel_size), 0)\n",
        "\n",
        "      # Measure the blur after applying Gaussian blur\n",
        "      current_blur = measure_blurriness(blurred_image)\n",
        "\n",
        "      # If the current blur exceeds the desired blur, stop\n",
        "      if current_blur > desired_blur:\n",
        "          kernel_size += 2\n",
        "      else:\n",
        "        break\n",
        "\n",
        "  final_blurred_img = cv2.GaussianBlur(image, (kernel_size, kernel_size), 0)\n",
        "  final_blur = measure_blurriness(final_blurred_img)\n",
        "\n",
        "  print(f\"Initial Blur: {initial_blur}, Final Blur: {final_blur}, Kernel Size: {kernel_size}, Iterations: {iteration+1}\")\n",
        "\n",
        "  return final_blurred_img\n",
        "\n",
        "def clahe_equalization(image):\n",
        "  clahe = cv2.createCLAHE(clipLimit=2.0, tileGridSize=(8,8))\n",
        "  equalized_img = clahe.apply(image)\n",
        "  return equalized_img\n",
        "\n",
        "def otsu_thresholding(image):\n",
        "  _, binary_image = cv2.threshold(image, 0, 255, cv2.THRESH_BINARY_INV + cv2.THRESH_OTSU)\n",
        "  return binary_image\n",
        "\n",
        "def canny_edge_detection(image, low_threshold=50, high_threshold=150):\n",
        "  return cv2.Canny(image, low_threshold, high_threshold)\n",
        "\n",
        "def find_extreme_corners(contours):\n",
        "  '''Find the extreme corners of the image'''\n",
        "  all_points = np.vstack(contours)\n",
        "  top_left = all_points[np.argmin(all_points[:, :, 0] + all_points[:, :, 1])]\n",
        "  bottom_right = all_points[np.argmax(all_points[:, :, 0] + all_points[:, :, 1])]\n",
        "  top_right = all_points[np.argmax(all_points[:, :, 0] - all_points[:, :, 1])]\n",
        "  bottom_left = all_points[np.argmin(all_points[:, :, 0] - all_points[:, :, 1])]\n",
        "  return top_left[0], top_right[0], bottom_left[0], bottom_right[0]\n",
        "\n",
        "def apply_perspective_transformation(image, corners):\n",
        "  '''Apply perspective transformation to the image'''\n",
        "  tl, tr, bl, br = corners\n",
        "  width = int(max(np.linalg.norm(br - bl), np.linalg.norm(tr - tl)))\n",
        "  height = int(max(np.linalg.norm(tr - br), np.linalg.norm(tl - bl)))\n",
        "\n",
        "  dst_pts = np.array([\n",
        "      [0, 0],\n",
        "      [width - 1, 0],\n",
        "      [0, height - 1],\n",
        "      [width - 1, height - 1]\n",
        "  ], dtype=\"float32\")\n",
        "\n",
        "  src_pts = np.array([tl, tr, bl, br], dtype=\"float32\")\n",
        "\n",
        "  M = cv2.getPerspectiveTransform(src_pts, dst_pts)\n",
        "  warped = cv2.warpPerspective(image, M, (width, height))\n",
        "  return warped\n",
        "\n",
        "def automatic_warp_transformation(image, target_size=(800, 1000)):\n",
        "  '''Automatic Cropping using Adaptive Warp Transformation'''\n",
        "  gray_image = cv2.cvtColor(image, cv2.COLOR_BGR2GRAY)\n",
        "  resized_image = resize_image(gray_image, target_size)\n",
        "  brightened_image = logarithmic_transformation(resized_image)\n",
        "  contrast_image = contrast_stretching(brightened_image)\n",
        "  blurred_image = gaussian_blur(contrast_image, mode='Soft')\n",
        "  binary_image = otsu_thresholding(blurred_image)\n",
        "  edges = canny_edge_detection(binary_image)\n",
        "  contours, _ = cv2.findContours(edges, cv2.RETR_EXTERNAL, cv2.CHAIN_APPROX_SIMPLE)\n",
        "\n",
        "  # Getting Contours (Drawing Contours in image, useful for debugging)\n",
        "  contour_image = cv2.cvtColor(binary_image, cv2.COLOR_GRAY2BGR)\n",
        "  cv2.drawContours(contour_image, contours, -1, (0, 255, 0), 2)\n",
        "\n",
        "  corners = find_extreme_corners(contours)\n",
        "  for corner in corners:\n",
        "      cv2.circle(contour_image, tuple(corner), 5, (0, 0, 255), -1)\n",
        "\n",
        "  warped_image = apply_perspective_transformation(resized_image, corners)\n",
        "  print(f'Initial image {image.shape} processed to {warped_image.shape}')\n",
        "\n",
        "  return warped_image\n",
        "\n",
        "def image_uniformization(master_image, student_image):\n",
        "  '''Precision Image Resizing'''\n",
        "  master_shape = master_image.shape\n",
        "  student_shape = student_image.shape\n",
        "\n",
        "  master_height = master_shape[0]\n",
        "  master_width = master_shape[1]\n",
        "\n",
        "  student_height = student_shape[0]\n",
        "  student_width = student_shape[1]\n",
        "\n",
        "  min_height = min(master_height, student_height)\n",
        "  min_width = min(master_width, student_width)\n",
        "\n",
        "  resized_master = cv2.resize(master_image, (min_width, min_height))\n",
        "  resized_student = cv2.resize(student_image, (min_width, min_height))\n",
        "\n",
        "  print(f'master_key {master_image.shape} and student_answer {student_image.shape} uniformed to {resized_master.shape}')\n",
        "\n",
        "  return resized_master, resized_student\n",
        "\n",
        "def morph_open(image):\n",
        "  kernel = cv2.getStructuringElement(cv2.MORPH_RECT, (5, 5))\n",
        "  eroded_img = cv2.erode(image, kernel, iterations = 1)\n",
        "  dilated_img = cv2.dilate(eroded_img, kernel, iterations = 1)\n",
        "\n",
        "  return dilated_img\n",
        "\n",
        "def core_preprocessing(image):\n",
        "  '''Core Preprocessing Module'''\n",
        "  blurred_img = gaussian_blur(image, mode='Hard')\n",
        "  contrast_img = contrast_stretching(blurred_img)\n",
        "  log_img = logarithmic_transformation(contrast_img)\n",
        "  binary_img = otsu_thresholding(log_img)\n",
        "  opened_img = morph_open(binary_img)\n",
        "\n",
        "  return opened_img\n",
        "\n",
        "def core_preprocessing_v2(image):\n",
        "  '''\n",
        "  Core Preprocessing Module V2:\n",
        "  - Uses CLAHE for lighting handling\n",
        "  - Uses Adaptive Gaussian Blur to ensure optimal thresholding\n",
        "  '''\n",
        "  clahe_img = clahe_equalization(image)\n",
        "  blurred_img = adaptive_gaussian_blur(clahe_img, desired_blur=100, max_iterations=100)\n",
        "  contrast_img = contrast_stretching(blurred_img)\n",
        "  log_img = logarithmic_transformation(contrast_img)\n",
        "  binary_img = otsu_thresholding(log_img)\n",
        "  opened_img = morph_open(binary_img)\n",
        "\n",
        "  return opened_img\n",
        "\n",
        "def draw_full_contours(contours, cont_image, radius = 7):\n",
        "  '''Draw Full Circles'''\n",
        "  for contour in contours:\n",
        "    M = cv2.moments(contour)\n",
        "    if M[\"m00\"] != 0:\n",
        "      cX = int(M[\"m10\"] / M[\"m00\"])\n",
        "      cY = int(M[\"m01\"] / M[\"m00\"])\n",
        "      # Draw a filled circle at the center of the contour\n",
        "      cv2.circle(cont_image, (cX, cY), radius, (0, 255, 0), -1)\n",
        "\n",
        "  return cont_image\n",
        "\n",
        "def extract_and_draw_contours(image):\n",
        "  contours, hierarchy = cv2.findContours(image, cv2.RETR_LIST, cv2.CHAIN_APPROX_SIMPLE)\n",
        "\n",
        "  unique_values = []\n",
        "  for columns in image:\n",
        "    for pixel in columns:\n",
        "      if pixel not in unique_values:\n",
        "        unique_values.append(pixel)\n",
        "\n",
        "  contour_image = cv2.cvtColor(image, cv2.COLOR_GRAY2BGR)\n",
        "  contour_image = draw_full_contours(contours, contour_image)\n",
        "\n",
        "  return contours, contour_image\n",
        "\n",
        "def extract_and_draw_circle_contours(image):\n",
        "  contours, hierarchy = cv2.findContours(image, cv2.RETR_LIST, cv2.CHAIN_APPROX_SIMPLE)\n",
        "\n",
        "  circle_contours = []\n",
        "  contour_image = cv2.cvtColor(image, cv2.COLOR_GRAY2BGR)\n",
        "\n",
        "  # radius_list = []\n",
        "  # contour_ar_list = []\n",
        "\n",
        "  for contour in contours:\n",
        "      # Approximate the enclosing circle for each contour\n",
        "      (x, y), radius = cv2.minEnclosingCircle(contour)\n",
        "      circle_area = np.pi * (radius ** 2)\n",
        "\n",
        "      # if radius not in radius_list:\n",
        "      #   radius_list.append(radius)\n",
        "\n",
        "      # if contour_area not in contour_ar_list:\n",
        "      #   contour_ar_list.append(contour_area)\n",
        "\n",
        "      # Calculate the actual contour area\n",
        "      contour_area = cv2.contourArea(contour)\n",
        "\n",
        "      # Check if the contour area is approximately equal to the circle area\n",
        "      # Tolerance range for being \"circular\"\n",
        "      if radius < 5:\n",
        "          if 0.6 <= contour_area / circle_area <= 1.4:\n",
        "              circle_contours.append(contour)\n",
        "      else:\n",
        "          if 0.8 <= contour_area / circle_area <= 1.2:\n",
        "              circle_contours.append(contour)\n",
        "\n",
        "  # contour_image = cv2.drawContours(contour_image, circle_contours, -1, (0, 255, 0), thickness=2)\n",
        "  contour_image = draw_full_contours(circle_contours, contour_image)\n",
        "\n",
        "  return circle_contours, contour_image\n",
        "\n",
        "def soft_morph_open(image):\n",
        "  kernel = cv2.getStructuringElement(cv2.MORPH_RECT, (3, 3))\n",
        "  eroded_img = cv2.erode(image, kernel, iterations = 1)\n",
        "  dilated_img = cv2.dilate(eroded_img, kernel, iterations = 1)\n",
        "\n",
        "  return dilated_img\n",
        "\n",
        "def final_scoring(new_student, processed_student, master_contours):\n",
        "  '''Final Score Calculation'''\n",
        "  test_answer = processed_student.copy()\n",
        "  # drawing the Answer Key to the Student's test answer, extracting the mistakes information\n",
        "  check_answers = draw_full_contours(master_contours, test_answer)\n",
        "\n",
        "  # open the image to remove noise\n",
        "  final_sheet = soft_morph_open(check_answers)\n",
        "\n",
        "  # fetching mistakes contours\n",
        "  final_contours, img = extract_and_draw_circle_contours(final_sheet)\n",
        "  \n",
        "  # calculating mistakes and final score\n",
        "  mistakes = len(final_contours)\n",
        "  total_questions = len(master_contours)\n",
        "  print(f'total_questions: {total_questions}, mistakes: {mistakes}')\n",
        "  final_score = ((total_questions - mistakes) / total_questions) * 100\n",
        "  print(f'final score: {final_score}')\n",
        "\n",
        "  student_correction = cv2.cvtColor(new_student, cv2.COLOR_GRAY2BGR)\n",
        "  student_correction = draw_full_contours(master_contours, student_correction)\n",
        "\n",
        "  return final_score, student_correction"
      ]
    },
    {
      "cell_type": "code",
      "execution_count": 187,
      "metadata": {
        "colab": {
          "base_uri": "https://localhost:8080/",
          "height": 180
        },
        "id": "WKYf3xvatO3S",
        "outputId": "05fe3884-2ee1-4934-af31-0411a06b7e79"
      },
      "outputs": [],
      "source": [
        "answer1 = cv2.imread('inputs/circle_1/stu_good_light.jpg')\n",
        "master_sheet = cv2.imread('inputs/circle_1/master_circle_best.jpg')\n",
        "\n",
        "# answer1 = cv2.imread('inputs/circle_2/student1_crop.jpg')\n",
        "# master_sheet = cv2.imread('inputs/circle_2/master1_crop.jpg')\n",
        "\n",
        "# print(master_sheet.shape)\n",
        "# # MASTER KEY\n",
        "# gray_img = cv2.cvtColor(master_sheet, cv2.COLOR_BGR2GRAY)\n",
        "\n",
        "# plt.figure(figsize = (10, 5))\n",
        "\n",
        "# plt.subplot(1, 2, 1)\n",
        "# plt.imshow(master_sheet, cmap='gray')\n",
        "# plt.title('Ori image')\n",
        "# plt.axis('off')\n",
        "\n",
        "# plt.subplot(1, 2, 2)\n",
        "# plt.imshow(gray_img, cmap='gray')\n",
        "# plt.title('Gray img')\n",
        "# plt.axis('off')\n",
        "\n",
        "# plt.show()"
      ]
    },
    {
      "cell_type": "code",
      "execution_count": 188,
      "metadata": {
        "colab": {
          "base_uri": "https://localhost:8080/",
          "height": 118
        },
        "id": "zNhvTvWc1THe",
        "outputId": "114e38e6-1f4d-43e0-d9d3-78fddee3733c"
      },
      "outputs": [],
      "source": [
        "# resized = resize_image(gray_img)\n",
        "# log_img = logarithmic_transformation(resized)\n",
        "# contrast_img = contrast_stretching(log_img)\n",
        "# blurred_img = gaussian_blur(contrast_img)\n",
        "# # blurred_img = adaptive_gaussian_blur(contrast_img)\n",
        "# binary_img = otsu_thresholding(blurred_img)\n",
        "\n",
        "# plt.figure(figsize = (30, 20))\n",
        "\n",
        "# plt.subplot(1, 5, 1)\n",
        "# plt.imshow(resized, cmap='gray')\n",
        "# plt.title('resized')\n",
        "# plt.axis('off')\n",
        "\n",
        "# plt.subplot(1, 5, 2)\n",
        "# plt.imshow(log_img, cmap='gray')\n",
        "# plt.title('log img')\n",
        "# plt.axis('off')\n",
        "\n",
        "# plt.subplot(1, 5, 3)\n",
        "# plt.imshow(contrast_img, cmap='gray')\n",
        "# plt.title('cont image')\n",
        "# plt.axis('off')\n",
        "\n",
        "# plt.subplot(1, 5, 4)\n",
        "# plt.imshow(blurred_img, cmap='gray')\n",
        "# plt.title('blurred img')\n",
        "# plt.axis('off')\n",
        "\n",
        "# plt.subplot(1, 5, 5)\n",
        "# plt.imshow(binary_img, cmap='gray')\n",
        "# plt.title('thresh image')\n",
        "# plt.axis('off')\n",
        "\n",
        "# plt.show()"
      ]
    },
    {
      "cell_type": "code",
      "execution_count": 189,
      "metadata": {
        "colab": {
          "base_uri": "https://localhost:8080/"
        },
        "id": "2oFQAnu74v6m",
        "outputId": "bf56a869-82fe-470c-8e2b-2d157fc16567"
      },
      "outputs": [],
      "source": [
        "# blurriness = measure_blurriness(blurred_img)\n",
        "# print('Blurriness: ', blurriness)"
      ]
    },
    {
      "cell_type": "code",
      "execution_count": 190,
      "metadata": {
        "colab": {
          "base_uri": "https://localhost:8080/",
          "height": 234
        },
        "id": "bUqLtFg8_c1i",
        "outputId": "6dec347b-cc08-406b-8d2e-eb9cbefb54ec"
      },
      "outputs": [
        {
          "name": "stdout",
          "output_type": "stream",
          "text": [
            "Initial image (3839, 1036, 3) processed to (776, 188)\n",
            "Initial image (3832, 1021, 3) processed to (781, 189)\n",
            "master_sheet (3832, 1021, 3) processed to (781, 189)\n",
            "answer1 (3839, 1036, 3) processed to (776, 188)\n"
          ]
        }
      ],
      "source": [
        "student1 = automatic_warp_transformation(answer1)\n",
        "master_key = automatic_warp_transformation(master_sheet)\n",
        "\n",
        "print(f'master_sheet {master_sheet.shape} processed to {master_key.shape}')\n",
        "print(f'answer1 {answer1.shape} processed to {student1.shape}')\n",
        "\n",
        "# plt.figure(figsize = (10, 5))\n",
        "\n",
        "# plt.subplot(1, 2, 1)\n",
        "# plt.imshow(master_key, cmap='gray')\n",
        "# plt.title('Master Key')\n",
        "# plt.axis('off')\n",
        "\n",
        "# plt.subplot(1, 2, 2)\n",
        "# plt.imshow(student1, cmap='gray')\n",
        "# plt.title('Student Answer')\n",
        "# plt.axis('off')\n",
        "\n",
        "# plt.show()"
      ]
    },
    {
      "cell_type": "code",
      "execution_count": 191,
      "metadata": {
        "colab": {
          "base_uri": "https://localhost:8080/",
          "height": 343
        },
        "id": "P7VAquYPGpoi",
        "outputId": "3483d06c-2307-47a6-9d4e-75bb15de1547"
      },
      "outputs": [
        {
          "name": "stdout",
          "output_type": "stream",
          "text": [
            "master_key (781, 189) and student_answer (776, 188) uniformed to (776, 188)\n",
            "(776, 188) (776, 188)\n"
          ]
        }
      ],
      "source": [
        "new_master, new_student = image_uniformization(master_key, student1)\n",
        "print(new_master.shape, new_student.shape)"
      ]
    },
    {
      "cell_type": "code",
      "execution_count": 192,
      "metadata": {
        "colab": {
          "base_uri": "https://localhost:8080/",
          "height": 829
        },
        "id": "hZgoz3ki06Eh",
        "outputId": "a18f311e-ec2d-4668-d99c-ce72c6f7f75d"
      },
      "outputs": [],
      "source": [
        "# def histogram_equalization(image):\n",
        "#   equalized_img = cv2.equalizeHist(image)\n",
        "#   return equalized_img\n",
        "\n",
        "# eq_img = histogram_equalization(new_student)\n",
        "# clahe_img = clahe_equalization(new_student)\n",
        "\n",
        "# plt.figure(figsize = (15, 10))\n",
        "\n",
        "# plt.subplot(3, 1, 1)\n",
        "# plt.imshow(new_student, cmap='gray')\n",
        "# plt.title('new_student')\n",
        "# plt.axis('off')\n",
        "\n",
        "# plt.subplot(3, 1, 2)\n",
        "# plt.imshow(eq_img, cmap='gray')\n",
        "# plt.title('eq_img')\n",
        "# plt.axis('off')\n",
        "\n",
        "# plt.subplot(3, 1, 3)\n",
        "# plt.imshow(clahe_img, cmap='gray')\n",
        "# plt.title('clahe_img')\n",
        "# plt.axis('off')\n",
        "\n",
        "# plt.show()"
      ]
    },
    {
      "cell_type": "code",
      "execution_count": 193,
      "metadata": {
        "colab": {
          "base_uri": "https://localhost:8080/",
          "height": 1000
        },
        "id": "modchCr01zNg",
        "outputId": "d3a76072-2d9f-4bc8-abbd-ccb325db224a"
      },
      "outputs": [],
      "source": [
        "# clahe_img = clahe_equalization(new_master)\n",
        "# blurred_img = gaussian_blur(clahe_img, mode='Hard')\n",
        "# contrast_img = contrast_stretching(blurred_img)\n",
        "# log_img = logarithmic_transformation(contrast_img)\n",
        "# binary_img = otsu_thresholding(log_img)\n",
        "\n",
        "# plt.figure(figsize=(15, 25))\n",
        "\n",
        "# plt.subplot(6, 1, 1)\n",
        "# plt.imshow(new_master, cmap='gray')\n",
        "# plt.title('new_master')\n",
        "# plt.axis('off')\n",
        "\n",
        "# plt.subplot(6, 1, 2)\n",
        "# plt.imshow(clahe_img, cmap='gray')\n",
        "# plt.title('clahe_img')\n",
        "# plt.axis('off')\n",
        "\n",
        "# plt.subplot(6, 1, 3)\n",
        "# plt.imshow(blurred_img, cmap='gray')\n",
        "# plt.title('blurred img')\n",
        "# plt.axis('off')\n",
        "\n",
        "# plt.subplot(6, 1, 4)\n",
        "# plt.imshow(contrast_img, cmap='gray')\n",
        "# plt.title('cont image')\n",
        "# plt.axis('off')\n",
        "\n",
        "# plt.subplot(6, 1, 5)\n",
        "# plt.imshow(log_img, cmap='gray')\n",
        "# plt.title('log img')\n",
        "# plt.axis('off')\n",
        "\n",
        "# plt.subplot(6, 1, 6)\n",
        "# plt.imshow(binary_img, cmap='gray')\n",
        "# plt.title('thresh image')\n",
        "# plt.axis('off')\n",
        "\n",
        "# plt.show()\n",
        "\n",
        "# blurriness = measure_blurriness(blurred_img)\n",
        "# print('Blurriness: ', blurriness)"
      ]
    },
    {
      "cell_type": "code",
      "execution_count": 194,
      "metadata": {
        "colab": {
          "base_uri": "https://localhost:8080/",
          "height": 1000
        },
        "id": "WrZYqi8K5mVN",
        "outputId": "f0cc0b15-896e-4162-ef69-4e8bac656ebb"
      },
      "outputs": [],
      "source": [
        "# # Example pipeline with improved adaptive Gaussian blur\n",
        "# clahe_img = clahe_equalization(new_master)\n",
        "# blurred_img = adaptive_gaussian_blur(clahe_img, desired_blur=100, max_iterations=100)\n",
        "# contrast_img = contrast_stretching(blurred_img)\n",
        "# log_img = logarithmic_transformation(contrast_img)\n",
        "# binary_img = otsu_thresholding(log_img)\n",
        "\n",
        "\n",
        "# plt.figure(figsize=(15, 25))\n",
        "\n",
        "# plt.subplot(6, 1, 1)\n",
        "# plt.imshow(new_master, cmap='gray')\n",
        "# plt.title('new_master')\n",
        "# plt.axis('off')\n",
        "\n",
        "# plt.subplot(6, 1, 2)\n",
        "# plt.imshow(clahe_img, cmap='gray')\n",
        "# plt.title('clahe_img')\n",
        "# plt.axis('off')\n",
        "\n",
        "# plt.subplot(6, 1, 3)\n",
        "# plt.imshow(blurred_img, cmap='gray')\n",
        "# plt.title('blurred img')\n",
        "# plt.axis('off')\n",
        "\n",
        "# plt.subplot(6, 1, 4)\n",
        "# plt.imshow(contrast_img, cmap='gray')\n",
        "# plt.title('cont image')\n",
        "# plt.axis('off')\n",
        "\n",
        "# plt.subplot(6, 1, 5)\n",
        "# plt.imshow(log_img, cmap='gray')\n",
        "# plt.title('log img')\n",
        "# plt.axis('off')\n",
        "\n",
        "# plt.subplot(6, 1, 6)\n",
        "# plt.imshow(binary_img, cmap='gray')\n",
        "# plt.title('thresh image')\n",
        "# plt.axis('off')\n",
        "\n",
        "# plt.show()\n",
        "\n",
        "# blurriness = measure_blurriness(blurred_img)\n",
        "# print('Blurriness: ', blurriness)"
      ]
    },
    {
      "cell_type": "code",
      "execution_count": 195,
      "metadata": {
        "colab": {
          "base_uri": "https://localhost:8080/",
          "height": 308
        },
        "id": "bBXO2sgE_F9i",
        "outputId": "bdcafc77-a825-4c8a-b02e-6277bc7185e5"
      },
      "outputs": [],
      "source": [
        "# cv2_imshow(new_master)"
      ]
    },
    {
      "cell_type": "code",
      "execution_count": 196,
      "metadata": {
        "colab": {
          "base_uri": "https://localhost:8080/",
          "height": 308
        },
        "id": "P72m3RUL_GTn",
        "outputId": "f68fdab2-2726-4101-8bcf-087a0f44db50"
      },
      "outputs": [],
      "source": [
        "# cv2_imshow(new_student)"
      ]
    },
    {
      "cell_type": "code",
      "execution_count": 197,
      "metadata": {
        "colab": {
          "base_uri": "https://localhost:8080/",
          "height": 343
        },
        "id": "rowAXxz4JVok",
        "outputId": "78d8c66e-9304-48e8-d4c7-fd910b63e226"
      },
      "outputs": [
        {
          "name": "stdout",
          "output_type": "stream",
          "text": [
            "Initial Blur: 7563.028356815565, Final Blur: 81.03814921412811, Kernel Size: 9, Iterations: 3\n",
            "Initial Blur: 12594.605205433561, Final Blur: 76.90097086772752, Kernel Size: 9, Iterations: 3\n"
          ]
        }
      ],
      "source": [
        "processed_master = core_preprocessing_v2(new_master)\n",
        "processed_student = core_preprocessing_v2(new_student)\n",
        "\n",
        "# plt.figure(figsize = (15, 10))\n",
        "\n",
        "# plt.subplot(1, 2, 1)\n",
        "# plt.imshow(processed_master, cmap='gray')\n",
        "# plt.title('Master Key')\n",
        "# plt.axis('off')\n",
        "\n",
        "# plt.subplot(1, 2, 2)\n",
        "# plt.imshow(processed_student, cmap='gray')\n",
        "# plt.title('Student Answer')\n",
        "# plt.axis('off')\n",
        "\n",
        "# plt.show()"
      ]
    },
    {
      "cell_type": "code",
      "execution_count": 198,
      "metadata": {
        "colab": {
          "base_uri": "https://localhost:8080/",
          "height": 308
        },
        "id": "yfS9WeVlgar4",
        "outputId": "ef66438b-9a0c-498f-a8bd-51f951714af0"
      },
      "outputs": [],
      "source": [
        "# cv2_imshow(processed_student)"
      ]
    },
    {
      "cell_type": "code",
      "execution_count": 199,
      "metadata": {
        "colab": {
          "base_uri": "https://localhost:8080/",
          "height": 343
        },
        "id": "KbvWadNhhIwS",
        "outputId": "201ea8c9-8546-4136-fc58-6f2fef61e013"
      },
      "outputs": [
        {
          "name": "stdout",
          "output_type": "stream",
          "text": [
            "100\n",
            "100\n"
          ]
        }
      ],
      "source": [
        "student_contours, student_contour_image = extract_and_draw_contours(processed_student)\n",
        "master_contours, master_contour_image = extract_and_draw_contours(processed_master)\n",
        "\n",
        "print(len(student_contours))\n",
        "print(len(master_contours))\n",
        "\n",
        "# plt.figure(figsize = (10, 5))\n",
        "\n",
        "# plt.subplot(1, 2, 1)\n",
        "# plt.imshow(master_contour_image, cmap='gray')\n",
        "# plt.title('Master Key')\n",
        "# plt.axis('off')\n",
        "\n",
        "# plt.subplot(1, 2, 2)\n",
        "# plt.imshow(student_contour_image, cmap='gray')\n",
        "# plt.title('Student Answer')\n",
        "# plt.axis('off')\n",
        "\n",
        "# plt.show()"
      ]
    },
    {
      "cell_type": "code",
      "execution_count": 200,
      "metadata": {
        "colab": {
          "base_uri": "https://localhost:8080/",
          "height": 308
        },
        "id": "Kv6ldb-qjiDa",
        "outputId": "09361bcf-b807-4763-c9bd-64cc3c1c6979"
      },
      "outputs": [],
      "source": [
        "# cv2_imshow(master_contour_image)"
      ]
    },
    {
      "cell_type": "code",
      "execution_count": 201,
      "metadata": {
        "colab": {
          "base_uri": "https://localhost:8080/"
        },
        "id": "vTprrXsRkl8y",
        "outputId": "6df251af-1fe1-4748-a97d-58c875246b46"
      },
      "outputs": [
        {
          "name": "stdout",
          "output_type": "stream",
          "text": [
            "(776, 188, 3) (776, 188, 3)\n"
          ]
        }
      ],
      "source": [
        "print(student_contour_image.shape, master_contour_image.shape)"
      ]
    },
    {
      "cell_type": "code",
      "execution_count": 202,
      "metadata": {
        "colab": {
          "base_uri": "https://localhost:8080/",
          "height": 308
        },
        "id": "Wx8JUggb8yvV",
        "outputId": "5f017907-0d77-465b-ee2d-e7ebc87734e8"
      },
      "outputs": [],
      "source": [
        "# test_answer = processed_student.copy()\n",
        "# # check_answers = cv2.drawContours(test_answer, master_contours, -1, (0, 255, 0), 7)\n",
        "# check_answers = draw_full_contours(master_contours, processed_student)\n",
        "\n",
        "# plt.figure(figsize = (10, 5))\n",
        "\n",
        "# plt.imshow(check_answers, cmap='gray')\n",
        "# plt.title('Check Answers')\n",
        "# plt.axis('off')\n",
        "\n",
        "# plt.show()"
      ]
    },
    {
      "cell_type": "code",
      "execution_count": 203,
      "metadata": {
        "colab": {
          "base_uri": "https://localhost:8080/",
          "height": 634
        },
        "id": "JZTRUNuRASrh",
        "outputId": "9a6f8d06-c336-41b6-9f93-b4ad22b0af8f"
      },
      "outputs": [
        {
          "name": "stdout",
          "output_type": "stream",
          "text": [
            "total_questions: 100, mistakes: 14\n",
            "final score: 86.0\n"
          ]
        },
        {
          "data": {
            "image/png": "[encoded data removed]",
            "text/plain": [
              "<Figure size 1000x500 with 1 Axes>"
            ]
          },
          "metadata": {},
          "output_type": "display_data"
        }
      ],
      "source": [
        "stu_final_score, stu_answer_key = final_scoring(new_student, processed_student, master_contours)\n",
        "# cv2_imshow(stu_answer_key)\n",
        "\n",
        "plt.figure(figsize = (10, 5))\n",
        "\n",
        "plt.imshow(stu_answer_key, cmap='gray')\n",
        "plt.title(f'Student Results: {\"{:.2f}\".format(stu_final_score)}')\n",
        "plt.axis('off')\n",
        "\n",
        "plt.show()"
      ]
    },
    {
      "cell_type": "code",
      "execution_count": 209,
      "metadata": {},
      "outputs": [
        {
          "name": "stdout",
          "output_type": "stream",
          "text": [
            "Initial image (810, 2731, 3) processed to (295, 977)\n",
            "Initial image (794, 2703, 3) processed to (291, 974)\n",
            "master_key (291, 974) and student_answer (295, 977) uniformed to (291, 974)\n",
            "Initial Blur: 3564.0861691289438, Final Blur: 59.248868623219415, Kernel Size: 9, Iterations: 3\n",
            "Initial Blur: 2308.801620248059, Final Blur: 63.77951807826636, Kernel Size: 9, Iterations: 3\n",
            "total_questions: 61, mistakes: 7\n",
            "final score: 88.52459016393442\n"
          ]
        }
      ],
      "source": [
        "# answer1 = cv2.imread('inputs/circle_1/stu_good_light.jpg')\n",
        "# master_sheet = cv2.imread('inputs/circle_1/master_circle_best.jpg')\n",
        "\n",
        "answer1 = cv2.imread('inputs/circle_2/student1_crop.jpg')\n",
        "master_sheet = cv2.imread('inputs/circle_2/master1_crop.jpg')\n",
        "\n",
        "def circles_pipeline(answer_key, student_answer): \n",
        "    student_sheet = automatic_warp_transformation(student_answer)\n",
        "    master_key = automatic_warp_transformation(answer_key)\n",
        "    new_master, new_student = image_uniformization(master_key, student_sheet)\n",
        "    processed_master = core_preprocessing_v2(new_master)\n",
        "    processed_student = core_preprocessing_v2(new_student)\n",
        "    student_contours, student_contour_image = extract_and_draw_contours(processed_student)\n",
        "    master_contours, master_contour_image = extract_and_draw_contours(processed_master)\n",
        "    stu_final_score, stu_answer_key = final_scoring(new_student, processed_student, master_contours)\n",
        "    \n",
        "    return stu_final_score, stu_answer_key\n",
        "    \n",
        "student_final_score, student_mistakes = circles_pipeline(master_sheet, answer1)"
      ]
    }
  ],
  "metadata": {
    "colab": {
      "provenance": []
    },
    "kernelspec": {
      "display_name": "fall_detect",
      "language": "python",
      "name": "python3"
    },
    "language_info": {
      "codemirror_mode": {
        "name": "ipython",
        "version": 3
      },
      "file_extension": ".py",
      "mimetype": "text/x-python",
      "name": "python",
      "nbconvert_exporter": "python",
      "pygments_lexer": "ipython3",
      "version": "3.9.19"
    }
  },
  "nbformat": 4,
  "nbformat_minor": 0
}
