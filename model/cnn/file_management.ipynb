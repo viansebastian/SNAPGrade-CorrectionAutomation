{
 "cells": [
  {
   "cell_type": "code",
   "execution_count": 7,
   "metadata": {},
   "outputs": [
    {
     "name": "stdout",
     "output_type": "stream",
     "text": [
      "39\n",
      "39\n",
      "5106\n",
      "119\n"
     ]
    },
    {
     "data": {
      "text/plain": [
       "['#',\n",
       " '$',\n",
       " '&',\n",
       " '0',\n",
       " '1',\n",
       " '2',\n",
       " '3',\n",
       " '4',\n",
       " '5',\n",
       " '6',\n",
       " '7',\n",
       " '8',\n",
       " '9',\n",
       " '@',\n",
       " 'A',\n",
       " 'B',\n",
       " 'C',\n",
       " 'D',\n",
       " 'E',\n",
       " 'F',\n",
       " 'G',\n",
       " 'H',\n",
       " 'I',\n",
       " 'J',\n",
       " 'K',\n",
       " 'L',\n",
       " 'M',\n",
       " 'N',\n",
       " 'P',\n",
       " 'Q',\n",
       " 'R',\n",
       " 'S',\n",
       " 'T',\n",
       " 'U',\n",
       " 'V',\n",
       " 'W',\n",
       " 'X',\n",
       " 'Y',\n",
       " 'Z']"
      ]
     },
     "execution_count": 7,
     "metadata": {},
     "output_type": "execute_result"
    }
   ],
   "source": [
    "import os\n",
    "\n",
    "print(len(os.listdir('C:/Users/vian8/Desktop/Tugas2/SNAPGRADE/model/dataset/Train')))\n",
    "print(len(os.listdir('C:/Users/vian8/Desktop/Tugas2/SNAPGRADE/model/dataset/Validation')))\n",
    "\n",
    "print(len(os.listdir('C:/Users/vian8/Desktop/Tugas2/SNAPGRADE/model/dataset/Train/X')))\n",
    "print(len(os.listdir('C:/Users/vian8/Desktop/Tugas2/SNAPGRADE/model/dataset/Validation/X')))\n",
    "\n",
    "os.listdir('C:/Users/vian8/Desktop/Tugas2/SNAPGRADE/model/dataset/Train')"
   ]
  },
  {
   "cell_type": "code",
   "execution_count": 9,
   "metadata": {},
   "outputs": [
    {
     "name": "stdout",
     "output_type": "stream",
     "text": [
      "Files have been moved to Combined/X and Combined/Not_X with 5112 files each.\n"
     ]
    }
   ],
   "source": [
    "import os\n",
    "import shutil\n",
    "import random\n",
    "\n",
    "# Define paths\n",
    "train_path = r'C:/Users/vian8/Desktop/Tugas2/SNAPGRADE/model/dataset/Train'\n",
    "validation_path = r'C:/Users/vian8/Desktop/Tugas2/SNAPGRADE/model/dataset/Validation'\n",
    "combined_path = r'C:/Users/vian8/Desktop/Tugas2/SNAPGRADE/model/dataset/Combined'\n",
    "\n",
    "# Paths for the \"X\" and \"Not_X\" directories inside Combined\n",
    "x_combined_path = os.path.join(combined_path, 'X')\n",
    "not_x_combined_path = os.path.join(combined_path, 'Not_X')\n",
    "\n",
    "# Create \"X\" and \"Not_X\" directories if they don't exist\n",
    "os.makedirs(x_combined_path, exist_ok=True)\n",
    "os.makedirs(not_x_combined_path, exist_ok=True)\n",
    "\n",
    "# Function to move all \"X\" files to Combined/X\n",
    "def move_x_files(source_dir, target_dir):\n",
    "    x_dir = os.path.join(source_dir, 'X')\n",
    "    if os.path.exists(x_dir):\n",
    "        for file in os.listdir(x_dir):\n",
    "            source_file = os.path.join(x_dir, file)\n",
    "            target_file = os.path.join(target_dir, file)\n",
    "            shutil.move(source_file, target_file)\n",
    "\n",
    "# Move \"X\" files from Train and Validation to Combined/X\n",
    "move_x_files(train_path, x_combined_path)\n",
    "move_x_files(validation_path, x_combined_path)\n",
    "\n",
    "# Count the number of \"X\" files moved to Combined/X\n",
    "num_x_files = len(os.listdir(x_combined_path))\n",
    "\n",
    "# Collect files from other categories for \"Not_X\"\n",
    "not_x_files = []\n",
    "for label_dir in [train_path, validation_path]:\n",
    "    for label in os.listdir(label_dir):\n",
    "        if label != 'X':  # Exclude the \"X\" directory\n",
    "            label_path = os.path.join(label_dir, label)\n",
    "            not_x_files.extend([os.path.join(label_path, f) for f in os.listdir(label_path)])\n",
    "\n",
    "# Randomly select files from the non-\"X\" categories to match the number of \"X\" files\n",
    "selected_not_x_files = random.sample(not_x_files, num_x_files)\n",
    "\n",
    "# Move selected \"Not_X\" files to Combined/Not_X\n",
    "for file_path in selected_not_x_files:\n",
    "    target_file = os.path.join(not_x_combined_path, os.path.basename(file_path))\n",
    "    shutil.move(file_path, target_file)\n",
    "\n",
    "print(f\"Files have been moved to Combined/X and Combined/Not_X with {num_x_files} files each.\")"
   ]
  }
 ],
 "metadata": {
  "kernelspec": {
   "display_name": "fall_detect",
   "language": "python",
   "name": "python3"
  },
  "language_info": {
   "codemirror_mode": {
    "name": "ipython",
    "version": 3
   },
   "file_extension": ".py",
   "mimetype": "text/x-python",
   "name": "python",
   "nbconvert_exporter": "python",
   "pygments_lexer": "ipython3",
   "version": "3.9.19"
  }
 },
 "nbformat": 4,
 "nbformat_minor": 2
}
